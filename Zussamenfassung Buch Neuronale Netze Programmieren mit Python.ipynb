{
 "cells": [
  {
   "cell_type": "markdown",
   "id": "d02f4321",
   "metadata": {},
   "source": [
    "**Neuronale Netze programmieren mit Python**\n",
    "Steinwedner und Schweiger 2. Auflage"
   ]
  },
  {
   "cell_type": "markdown",
   "id": "1d2dbc0e",
   "metadata": {},
   "source": [
    "Das ist ein **Text** mit *Formatierungszeichen*\n",
    "1. nummerierte Listen beginnen mit einer Nummer\n",
    "2. wobei die Nummer beliebig gewählt werden kann\n",
    "1. nämlich so - beim Übersetzen wird das richtig gestellt\n",
    "    1. Sublisten werden mit Einrückung (Tabulator) erstellt\n",
    "    \n",
    "Absätze werden durch eine Leerzeile erzeugt\n",
    "\n",
    "Zeilenümbrüche durch zwei Leerzeichen am Ende einer Zeile\n",
    "\n",
    "Auch Weblinks können durch Rundklammern schnell eingefügt werden,\n",
    "zum Beispiel der Link zur [Anaconda-Seite] (https://anaconda.org).\n"
   ]
  },
  {
   "cell_type": "code",
   "execution_count": 1,
   "id": "d7714dea",
   "metadata": {},
   "outputs": [
    {
     "name": "stdout",
     "output_type": "stream",
     "text": [
      "Este es nuestro primer Python-Code con la ayuda del libro\n"
     ]
    }
   ],
   "source": [
    "## seite 55\n",
    "a = \"Este es nuestro primer Python-Code con la ayuda del libro\"      \n",
    "print(a)"
   ]
  },
  {
   "cell_type": "code",
   "execution_count": 2,
   "id": "97921813",
   "metadata": {},
   "outputs": [
    {
     "ename": "KeyboardInterrupt",
     "evalue": "Interrupted by user",
     "output_type": "error",
     "traceback": [
      "\u001b[1;31m---------------------------------------------------------------------------\u001b[0m",
      "\u001b[1;31mKeyboardInterrupt\u001b[0m                         Traceback (most recent call last)",
      "\u001b[1;32m~\\AppData\\Local\\Temp/ipykernel_12916/415386306.py\u001b[0m in \u001b[0;36m<module>\u001b[1;34m\u001b[0m\n\u001b[1;32m----> 1\u001b[1;33m \u001b[0minput\u001b[0m\u001b[1;33m(\u001b[0m\u001b[1;33m)\u001b[0m \u001b[1;31m# con mayuscula no sostenida y tabulator obtenemos informaciones, tambien con help o con ?\u001b[0m\u001b[1;33m\u001b[0m\u001b[1;33m\u001b[0m\u001b[0m\n\u001b[0m",
      "\u001b[1;32mC:\\ProgramData\\Anaconda3\\lib\\site-packages\\ipykernel\\kernelbase.py\u001b[0m in \u001b[0;36mraw_input\u001b[1;34m(self, prompt)\u001b[0m\n\u001b[0;32m   1004\u001b[0m                 \u001b[1;34m\"raw_input was called, but this frontend does not support input requests.\"\u001b[0m\u001b[1;33m\u001b[0m\u001b[1;33m\u001b[0m\u001b[0m\n\u001b[0;32m   1005\u001b[0m             )\n\u001b[1;32m-> 1006\u001b[1;33m         return self._input_request(\n\u001b[0m\u001b[0;32m   1007\u001b[0m             \u001b[0mstr\u001b[0m\u001b[1;33m(\u001b[0m\u001b[0mprompt\u001b[0m\u001b[1;33m)\u001b[0m\u001b[1;33m,\u001b[0m\u001b[1;33m\u001b[0m\u001b[1;33m\u001b[0m\u001b[0m\n\u001b[0;32m   1008\u001b[0m             \u001b[0mself\u001b[0m\u001b[1;33m.\u001b[0m\u001b[0m_parent_ident\u001b[0m\u001b[1;33m[\u001b[0m\u001b[1;34m\"shell\"\u001b[0m\u001b[1;33m]\u001b[0m\u001b[1;33m,\u001b[0m\u001b[1;33m\u001b[0m\u001b[1;33m\u001b[0m\u001b[0m\n",
      "\u001b[1;32mC:\\ProgramData\\Anaconda3\\lib\\site-packages\\ipykernel\\kernelbase.py\u001b[0m in \u001b[0;36m_input_request\u001b[1;34m(self, prompt, ident, parent, password)\u001b[0m\n\u001b[0;32m   1049\u001b[0m             \u001b[1;32mexcept\u001b[0m \u001b[0mKeyboardInterrupt\u001b[0m\u001b[1;33m:\u001b[0m\u001b[1;33m\u001b[0m\u001b[1;33m\u001b[0m\u001b[0m\n\u001b[0;32m   1050\u001b[0m                 \u001b[1;31m# re-raise KeyboardInterrupt, to truncate traceback\u001b[0m\u001b[1;33m\u001b[0m\u001b[1;33m\u001b[0m\u001b[0m\n\u001b[1;32m-> 1051\u001b[1;33m                 \u001b[1;32mraise\u001b[0m \u001b[0mKeyboardInterrupt\u001b[0m\u001b[1;33m(\u001b[0m\u001b[1;34m\"Interrupted by user\"\u001b[0m\u001b[1;33m)\u001b[0m \u001b[1;32mfrom\u001b[0m \u001b[1;32mNone\u001b[0m\u001b[1;33m\u001b[0m\u001b[1;33m\u001b[0m\u001b[0m\n\u001b[0m\u001b[0;32m   1052\u001b[0m             \u001b[1;32mexcept\u001b[0m \u001b[0mException\u001b[0m\u001b[1;33m:\u001b[0m\u001b[1;33m\u001b[0m\u001b[1;33m\u001b[0m\u001b[0m\n\u001b[0;32m   1053\u001b[0m                 \u001b[0mself\u001b[0m\u001b[1;33m.\u001b[0m\u001b[0mlog\u001b[0m\u001b[1;33m.\u001b[0m\u001b[0mwarning\u001b[0m\u001b[1;33m(\u001b[0m\u001b[1;34m\"Invalid Message:\"\u001b[0m\u001b[1;33m,\u001b[0m \u001b[0mexc_info\u001b[0m\u001b[1;33m=\u001b[0m\u001b[1;32mTrue\u001b[0m\u001b[1;33m)\u001b[0m\u001b[1;33m\u001b[0m\u001b[1;33m\u001b[0m\u001b[0m\n",
      "\u001b[1;31mKeyboardInterrupt\u001b[0m: Interrupted by user"
     ]
    }
   ],
   "source": [
    "input() # con mayuscula no sostenida y tabulator obtenemos informaciones, tambien con help o con ?"
   ]
  },
  {
   "cell_type": "code",
   "execution_count": null,
   "id": "c709b2d8",
   "metadata": {},
   "outputs": [],
   "source": [
    "# Module erforschen mit dem Tabulator-Taste m. tab\n",
    "import math as m"
   ]
  },
  {
   "cell_type": "code",
   "execution_count": null,
   "id": "46208e19",
   "metadata": {},
   "outputs": [],
   "source": [
    "# m. "
   ]
  },
  {
   "cell_type": "code",
   "execution_count": null,
   "id": "99f80416",
   "metadata": {},
   "outputs": [],
   "source": [
    "# Das gilt natürlich auch für unser Listenobjekt myList.tabulator\n",
    "myList = ['numpy', 'scikit', 'keras', 'tensorflow']"
   ]
  },
  {
   "cell_type": "code",
   "execution_count": null,
   "id": "2e0d1cd2",
   "metadata": {},
   "outputs": [],
   "source": [
    "myList.pop()"
   ]
  },
  {
   "cell_type": "markdown",
   "id": "1799f150",
   "metadata": {},
   "source": [
    " **Fehler und Debugging**\n",
    "Unter diesem Begriff versteht man in der Welt der Programmierer das Nachverfolgen\n",
    "des Anwendungsablaufs. Das wird vor allem dann gemacht, wenn die Anwendung nicht\n",
    "das tut, was sie sollte, beziehungsweise einen Fehler (also einen Bug) generiert.\n",
    "\n",
    " 1. Magic Function %xmode\n",
    " 2. Wir definieren uns zuerst eine einfache Funktion avg_beelength(),\n",
    "die die Aufgabe hat, die Mittelwerte der Längen unserer Bienen zu berechnen. Innerhalb\n",
    "dieser Funktion rufen wir dann die Funktion fehlerfunc() auf, wohl wissend, dass der\n",
    "Aufruf einen Fehler generieren könnte.\n",
    "*Seite 62*"
   ]
  },
  {
   "cell_type": "code",
   "execution_count": 3,
   "id": "0be2c462",
   "metadata": {},
   "outputs": [
    {
     "data": {
      "text/plain": [
       "3.8000000000000003"
      ]
     },
     "execution_count": 3,
     "metadata": {},
     "output_type": "execute_result"
    }
   ],
   "source": [
    "def fehlerfunc(x,y):\n",
    "    return x/y\n",
    "\n",
    "def avg_beelength(valuelist):\n",
    "    total = sum(valuelist)\n",
    "    count = len(valuelist)\n",
    "    return fehlerfunc(total,count)\n",
    "bees = (3, 3.5, 4.1, 5.2, 5, 2)\n",
    "nobees = ()\n",
    "avg_beelength(bees)"
   ]
  },
  {
   "cell_type": "code",
   "execution_count": null,
   "id": "b8f1ca44",
   "metadata": {},
   "outputs": [],
   "source": [
    "# Das ist die Standardeinstellung\n",
    "%xmode Context\n",
    "avg_beelength(nobees)"
   ]
  },
  {
   "cell_type": "code",
   "execution_count": null,
   "id": "c8378cfd",
   "metadata": {},
   "outputs": [],
   "source": [
    "# etwas kompaktere Fehlermeldung\n",
    "%xmode Plain\n",
    "avg_beelength(nobees)"
   ]
  },
  {
   "cell_type": "code",
   "execution_count": 4,
   "id": "68fa321d",
   "metadata": {},
   "outputs": [
    {
     "name": "stdout",
     "output_type": "stream",
     "text": [
      "Exception reporting mode: Verbose\n"
     ]
    },
    {
     "ename": "ZeroDivisionError",
     "evalue": "division by zero",
     "output_type": "error",
     "traceback": [
      "\u001b[1;31m---------------------------------------------------------------------------\u001b[0m",
      "\u001b[1;31mZeroDivisionError\u001b[0m                         Traceback (most recent call last)",
      "\u001b[1;32m~\\AppData\\Local\\Temp/ipykernel_12916/2473940846.py\u001b[0m in \u001b[0;36m<module>\u001b[1;34m\u001b[0m\n\u001b[0;32m      1\u001b[0m \u001b[1;31m# ausführliche Fehlermeldung\u001b[0m\u001b[1;33m\u001b[0m\u001b[1;33m\u001b[0m\u001b[0m\n\u001b[0;32m      2\u001b[0m \u001b[0mget_ipython\u001b[0m\u001b[1;33m(\u001b[0m\u001b[1;33m)\u001b[0m\u001b[1;33m.\u001b[0m\u001b[0mrun_line_magic\u001b[0m\u001b[1;33m(\u001b[0m\u001b[1;34m'xmode'\u001b[0m\u001b[1;33m,\u001b[0m \u001b[1;34m'Verbose'\u001b[0m\u001b[1;33m)\u001b[0m\u001b[1;33m\u001b[0m\u001b[1;33m\u001b[0m\u001b[0m\n\u001b[1;32m----> 3\u001b[1;33m \u001b[0mavg_beelength\u001b[0m\u001b[1;33m(\u001b[0m\u001b[0mnobees\u001b[0m\u001b[1;33m)\u001b[0m\u001b[1;33m\u001b[0m\u001b[1;33m\u001b[0m\u001b[0m\n\u001b[0m        \u001b[1;36mglobal\u001b[0m \u001b[0;36mavg_beelength\u001b[0m \u001b[1;34m= <function avg_beelength at 0x000001BFA0F2E8B0>\u001b[0m\u001b[1;34m\n        \u001b[0m\u001b[1;36mglobal\u001b[0m \u001b[0;36mnobees\u001b[0m \u001b[1;34m= ()\u001b[0m\n",
      "\u001b[1;32m~\\AppData\\Local\\Temp/ipykernel_12916/677359336.py\u001b[0m in \u001b[0;36mavg_beelength\u001b[1;34m(valuelist=())\u001b[0m\n\u001b[0;32m      5\u001b[0m     \u001b[0mtotal\u001b[0m \u001b[1;33m=\u001b[0m \u001b[0msum\u001b[0m\u001b[1;33m(\u001b[0m\u001b[0mvaluelist\u001b[0m\u001b[1;33m)\u001b[0m\u001b[1;33m\u001b[0m\u001b[1;33m\u001b[0m\u001b[0m\n\u001b[0;32m      6\u001b[0m     \u001b[0mcount\u001b[0m \u001b[1;33m=\u001b[0m \u001b[0mlen\u001b[0m\u001b[1;33m(\u001b[0m\u001b[0mvaluelist\u001b[0m\u001b[1;33m)\u001b[0m\u001b[1;33m\u001b[0m\u001b[1;33m\u001b[0m\u001b[0m\n\u001b[1;32m----> 7\u001b[1;33m     \u001b[1;32mreturn\u001b[0m \u001b[0mfehlerfunc\u001b[0m\u001b[1;33m(\u001b[0m\u001b[0mtotal\u001b[0m\u001b[1;33m,\u001b[0m\u001b[0mcount\u001b[0m\u001b[1;33m)\u001b[0m\u001b[1;33m\u001b[0m\u001b[1;33m\u001b[0m\u001b[0m\n\u001b[0m        \u001b[1;36mglobal\u001b[0m \u001b[0;36mfehlerfunc\u001b[0m \u001b[1;34m= <function fehlerfunc at 0x000001BFA0F2E430>\u001b[0m\u001b[1;34m\n        \u001b[0m\u001b[0;36mtotal\u001b[0m \u001b[1;34m= 0\u001b[0m\u001b[1;34m\n        \u001b[0m\u001b[0;36mcount\u001b[0m \u001b[1;34m= 0\u001b[0m\n\u001b[0;32m      8\u001b[0m \u001b[0mbees\u001b[0m \u001b[1;33m=\u001b[0m \u001b[1;33m(\u001b[0m\u001b[1;36m3\u001b[0m\u001b[1;33m,\u001b[0m \u001b[1;36m3.5\u001b[0m\u001b[1;33m,\u001b[0m \u001b[1;36m4.1\u001b[0m\u001b[1;33m,\u001b[0m \u001b[1;36m5.2\u001b[0m\u001b[1;33m,\u001b[0m \u001b[1;36m5\u001b[0m\u001b[1;33m,\u001b[0m \u001b[1;36m2\u001b[0m\u001b[1;33m)\u001b[0m\u001b[1;33m\u001b[0m\u001b[1;33m\u001b[0m\u001b[0m\n\u001b[0;32m      9\u001b[0m \u001b[0mnobees\u001b[0m \u001b[1;33m=\u001b[0m \u001b[1;33m(\u001b[0m\u001b[1;33m)\u001b[0m\u001b[1;33m\u001b[0m\u001b[1;33m\u001b[0m\u001b[0m\n",
      "\u001b[1;32m~\\AppData\\Local\\Temp/ipykernel_12916/677359336.py\u001b[0m in \u001b[0;36mfehlerfunc\u001b[1;34m(x=0, y=0)\u001b[0m\n\u001b[0;32m      1\u001b[0m \u001b[1;32mdef\u001b[0m \u001b[0mfehlerfunc\u001b[0m\u001b[1;33m(\u001b[0m\u001b[0mx\u001b[0m\u001b[1;33m,\u001b[0m\u001b[0my\u001b[0m\u001b[1;33m)\u001b[0m\u001b[1;33m:\u001b[0m\u001b[1;33m\u001b[0m\u001b[1;33m\u001b[0m\u001b[0m\n\u001b[1;32m----> 2\u001b[1;33m     \u001b[1;32mreturn\u001b[0m \u001b[0mx\u001b[0m\u001b[1;33m/\u001b[0m\u001b[0my\u001b[0m\u001b[1;33m\u001b[0m\u001b[1;33m\u001b[0m\u001b[0m\n\u001b[0m        \u001b[0;36mx\u001b[0m \u001b[1;34m= 0\u001b[0m\u001b[1;34m\n        \u001b[0m\u001b[0;36my\u001b[0m \u001b[1;34m= 0\u001b[0m\n\u001b[0;32m      3\u001b[0m \u001b[1;33m\u001b[0m\u001b[0m\n\u001b[0;32m      4\u001b[0m \u001b[1;32mdef\u001b[0m \u001b[0mavg_beelength\u001b[0m\u001b[1;33m(\u001b[0m\u001b[0mvaluelist\u001b[0m\u001b[1;33m)\u001b[0m\u001b[1;33m:\u001b[0m\u001b[1;33m\u001b[0m\u001b[1;33m\u001b[0m\u001b[0m\n\u001b[0;32m      5\u001b[0m     \u001b[0mtotal\u001b[0m \u001b[1;33m=\u001b[0m \u001b[0msum\u001b[0m\u001b[1;33m(\u001b[0m\u001b[0mvaluelist\u001b[0m\u001b[1;33m)\u001b[0m\u001b[1;33m\u001b[0m\u001b[1;33m\u001b[0m\u001b[0m\n",
      "\u001b[1;31mZeroDivisionError\u001b[0m: division by zero"
     ]
    }
   ],
   "source": [
    "# ausführliche Fehlermeldung\n",
    "%xmode Verbose\n",
    "avg_beelength(nobees)"
   ]
  },
  {
   "cell_type": "code",
   "execution_count": 5,
   "id": "b94d301d",
   "metadata": {},
   "outputs": [
    {
     "name": "stdout",
     "output_type": "stream",
     "text": [
      "> \u001b[1;32mc:\\users\\monic\\appdata\\local\\temp\\ipykernel_12916\\677359336.py\u001b[0m(2)\u001b[0;36mfehlerfunc\u001b[1;34m()\u001b[0m\n",
      "\n",
      "ipdb> print(x,y)\n",
      "0 0\n",
      "ipdb> print(count)\n",
      "*** NameError: name 'count' is not defined\n",
      "ipdb> up\n",
      "> \u001b[1;32mc:\\users\\monic\\appdata\\local\\temp\\ipykernel_12916\\677359336.py\u001b[0m(7)\u001b[0;36mavg_beelength\u001b[1;34m()\u001b[0m\n",
      "\n",
      "ipdb> up\n",
      "> \u001b[1;32mc:\\users\\monic\\appdata\\local\\temp\\ipykernel_12916\\2473940846.py\u001b[0m(3)\u001b[0;36m<module>\u001b[1;34m()\u001b[0m\n",
      "\n",
      "ipdb> up\n",
      "*** Oldest frame\n",
      "ipdb> quit\n"
     ]
    }
   ],
   "source": [
    "%debug"
   ]
  },
  {
   "cell_type": "markdown",
   "id": "5d0073a5",
   "metadata": {},
   "source": [
    "**Traceback (bzw. Stacktrace)**\n",
    "Der Traceback ist ein Werkzeug zur Rückverfolgung eines Programmfehlers. Ausgehend\n",
    "vom Auftreten des Fehlers werden alle daran beteiligten Funktionen angezeigt, was die\n",
    "Rückverfolgung bis zur Fehlerursache ermöglicht. Je komplexer und verschachtelter der\n",
    "Programmcode, desto länger werden solche **Stacktraces**.\n",
    "\n",
    "Manchmal liefert der Code keinen Fehler, tut aber trotzdem nicht ganz das, was man eigentlich wollte. Um dann genauere Informationen zu erhalten, was alles bei der Ausführung des Programmcodes passiert, verwendet man einen **Debugger**. Im Jupyter Notebook wird der interaktive Debugger mit dem **Befehl %debug** gestartet."
   ]
  },
  {
   "cell_type": "code",
   "execution_count": null,
   "id": "0e9fc3d2",
   "metadata": {},
   "outputs": [],
   "source": [
    " %debug"
   ]
  },
  {
   "cell_type": "code",
   "execution_count": 6,
   "id": "dc489b33",
   "metadata": {},
   "outputs": [
    {
     "name": "stdout",
     "output_type": "stream",
     "text": [
      "> \u001b[1;32mc:\\users\\monic\\appdata\\local\\temp\\ipykernel_12916\\677359336.py\u001b[0m(2)\u001b[0;36mfehlerfunc\u001b[1;34m()\u001b[0m\n",
      "\n",
      "ipdb> print(x,y)\n",
      "0 0\n",
      "ipdb> print(count)\n",
      "*** NameError: name 'count' is not defined\n",
      "ipdb> up\n",
      "> \u001b[1;32mc:\\users\\monic\\appdata\\local\\temp\\ipykernel_12916\\677359336.py\u001b[0m(7)\u001b[0;36mavg_beelength\u001b[1;34m()\u001b[0m\n",
      "\n",
      "ipdb> quit\n"
     ]
    }
   ],
   "source": [
    "def fehlerfunc(x,y):\n",
    "    return x/y\n",
    "\n",
    "def avg_beelength(valuelist):\n",
    "    total = sum(valuelist)\n",
    "    count = len(valuelist)\n",
    "    return fehlerfunc(total,count)\n",
    "bees = (3, 3.5, 4.1, 5.2, 5, 2)\n",
    "nobees = ()\n",
    "avg_beelength(bees)\n",
    "%debug"
   ]
  },
  {
   "cell_type": "markdown",
   "id": "e8ab1ab7",
   "metadata": {},
   "source": [
    "In unserem Traceback erkennen wir, dass wir zumindest zwei Stufen haben. Die letzte\n",
    "zeigt in der Funktion fehlerfunc(x,y), wo genau der Fehler passiert ist. Hier haben wir\n",
    "Zugriff auf alle Variablen innerhalb der Funktion, also x, y und natürlich eventuelle\n",
    "globale Variablen. Wollen wir eine Stufe höher gehen, in diesem Fall in die Funktion\n",
    "avg_beelength(), so müssen wir innerhalb des Debuggers den Befehl up eingeben. Mit\n",
    "der Ausgabe der Variablen count und total auf dieser Stufe ergibt dies beide Male 0 und\n",
    "führt uns zum eigentlichen Fehler, nämlich der Eingabe einer leeren Liste"
   ]
  },
  {
   "cell_type": "markdown",
   "id": "92da8447",
   "metadata": {},
   "source": [
    "**Wichtige Module in Python**\n",
    "(https://www.datacamp.com/community/data-science-cheatsheets.)\n",
    "\n",
    "**NumPy** steht für Numerical Python enthält eine optimierte Datenstruktur für mehrdimensionale Matrizen und die dazugehörigen Funktionen der linearen Algebra.\n",
    "Das Herzelement dieses Moduls ist die Klasse ndarray für mehrdimensionale Matrizen.\n",
    "(http://www.NumPy.org).\n",
    "\n",
    "**matplotlib**\n",
    "Dieses Modul erlaubt die Erstellung von wissenschaftlichen Diagrammen und Visualisierungen. Wird matplotlib mit Jupyter Notebook verwendet, so können die Visualisierungen direkt im Notebook dargestellt werden.\n",
    "(http://www.matplotlib.org).\n",
    "\n",
    "**scikit-learn** ist ein sehr beliebtes Werkzeug und enthält eine große Anzahl an modernen\n",
    "Machine-Learning-Algorithmen. \n",
    "(https://scikit-learn.org).\n",
    "\n",
    "**Pandas** erlaubt die Datenvorverarbeitung und Zusammenführung von Daten aus unterschiedlichen Quellen. Im Besonderen können Daten durch eine SQL-ähnliche Sprache\n",
    "mittels Abfragen und Zusammenführen von Tabellen zu den Strukturen Series (eindimensional), DataFrames (zweidimensional) und Panels (dreidimensional) eingelesen\n",
    "werden. Vor allem die DataFrames sind für uns von Bedeutung.\n",
    "(https://pandas.pydata.org).\n",
    "\n",
    "**TensorFlow** Google ist es zu verdanken, dass wir damit für das Deep Learning entwickelte Machine-Learning-Bibliotheken zur Verfügung haben. Die Berechnungen erfolgen mit sogenannten Datenflussgraphen. Ein Graph wiederum besteht aus Knoten, die durch Kanten verbunden sind.\n",
    "Jeder mit TensorFlow berechnete Algorithmus besteht aus mathematischen Operationen (repräsentiert als Knoten) und Daten (repräsentiert als Kanten). Damit lassen sich alle Berechnungen von einer einfachen Summe bis zu hochkomplexen Matrixoperationen durchführen und darstellen.\n",
    "(Framework unter http://www.tensorflow.org).\n",
    "\n",
    "**Keras** ist eine eigenständige Bibliothek, die mit verschiedenen Neuronale-Netze-Modulen arbeiten kann, wie zum Beispiel TensorFlow, MXNet oder Theano. Diese Module\n",
    "werden als Backends bezeichnet. Mit dem Release TensorFlow 2 hat Google Keras vollständig integriert. \n",
    "Bibliothek und  Dokumentation hier:\n",
    " (http://www.keras.io)\n",
    " (https://www.tensorflow.org/guide/keras)\n"
   ]
  },
  {
   "cell_type": "markdown",
   "id": "2de4aac8",
   "metadata": {},
   "source": [
    "**Gratis Cloud-Ressourcen (für Jupyter auch)**\n",
    "\n",
    "1. Jupyter Community (https://jupyter.org/tr)\n",
    "2. Google Colaboratory (colab) (https://colab.research.google.com/)\n",
    "3. Kaggle (https://www.kaggle.com/notebooks)\n",
    "4. Microsoft Azure (https://notebooks.azure.com)\n",
    "5. Amazon SageMaker (https://aws.amazon.com/de/sagemaker)\n"
   ]
  }
 ],
 "metadata": {
  "kernelspec": {
   "display_name": "Python 3 (ipykernel)",
   "language": "python",
   "name": "python3"
  },
  "language_info": {
   "codemirror_mode": {
    "name": "ipython",
    "version": 3
   },
   "file_extension": ".py",
   "mimetype": "text/x-python",
   "name": "python",
   "nbconvert_exporter": "python",
   "pygments_lexer": "ipython3",
   "version": "3.9.7"
  }
 },
 "nbformat": 4,
 "nbformat_minor": 5
}
